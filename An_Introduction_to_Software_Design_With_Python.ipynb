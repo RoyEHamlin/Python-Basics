{
  "nbformat": 4,
  "nbformat_minor": 0,
  "metadata": {
    "colab": {
      "name": "An Introduction to Software Design - With Python.ipynb",
      "provenance": [],
      "collapsed_sections": [],
      "authorship_tag": "ABX9TyMpdJJxqFAtF5ynnhcAgWWH",
      "include_colab_link": true
    },
    "kernelspec": {
      "name": "python3",
      "display_name": "Python 3"
    },
    "language_info": {
      "name": "python"
    }
  },
  "cells": [
    {
      "cell_type": "markdown",
      "metadata": {
        "id": "view-in-github",
        "colab_type": "text"
      },
      "source": [
        "<a href=\"https://colab.research.google.com/github/RoyEHamlin/Python-Basics/blob/main/An_Introduction_to_Software_Design_With_Python.ipynb\" target=\"_parent\"><img src=\"https://colab.research.google.com/assets/colab-badge.svg\" alt=\"Open In Colab\"/></a>"
      ]
    },
    {
      "cell_type": "markdown",
      "source": [
        "# Video\n",
        "https://www.youtube.com/watch?v=-njsRb8Tn70\n",
        "\n",
        "Reference: https://www.manning.com/books/practices-of-the-python-pro?a_aid=techwithtim&a_bid=3ff2fffc\n"
      ],
      "metadata": {
        "id": "rUUD9mbawYXH"
      }
    },
    {
      "cell_type": "markdown",
      "source": [
        "## Example 1 - Common Design Mistakes\n",
        "## Program Goal, print a list of words deliminted by commas"
      ],
      "metadata": {
        "id": "Vl1Tlt5yxHsr"
      }
    },
    {
      "cell_type": "code",
      "source": [
        "# Sol 1 - What's wrong?\n",
        "list_of_words = [\"hello\", \"yes\", \"goodbye\", \"last\"]\n",
        "print(list_of_words[0] + \",\" + \n",
        "      list_of_words[1] + \",\" + \n",
        "      list_of_words[2] + \",\" +\n",
        "      list_of_words[3])"
      ],
      "metadata": {
        "colab": {
          "base_uri": "https://localhost:8080/"
        },
        "id": "IhNc2Dhh3u_I",
        "outputId": "6d3224c8-af40-4449-f20e-796b6bb6292c"
      },
      "execution_count": 10,
      "outputs": [
        {
          "output_type": "stream",
          "name": "stdout",
          "text": [
            "hello,yes,goodbye,last\n"
          ]
        }
      ]
    },
    {
      "cell_type": "code",
      "source": [
        "# Sol 2\n",
        "for index, element in enumerate(list_of_words):\n",
        "    print(f\"({index}){element}\", end=\"\")\n",
        "    if index != len(list_of_words) - 1:\n",
        "        print(\", \", end=\"\")\n",
        "print()\n",
        "print(\"end\")\n"
      ],
      "metadata": {
        "colab": {
          "base_uri": "https://localhost:8080/"
        },
        "id": "kpEXfQ7aycII",
        "outputId": "f2940861-4464-4866-da32-f37e6b4b832a"
      },
      "execution_count": 6,
      "outputs": [
        {
          "output_type": "stream",
          "name": "stdout",
          "text": [
            "(0)hello, (1)yes, (2)goodbye, (3)last\n",
            "end\n"
          ]
        }
      ]
    },
    {
      "cell_type": "code",
      "source": [
        "# Sol 3\n",
        "print(\",\".join(list_of_words))"
      ],
      "metadata": {
        "colab": {
          "base_uri": "https://localhost:8080/"
        },
        "id": "nW74LCqP2Eg3",
        "outputId": "e92a64ef-4d76-4a1c-b40c-b23b6e10bd7c"
      },
      "execution_count": 7,
      "outputs": [
        {
          "output_type": "stream",
          "name": "stdout",
          "text": [
            "hello,yes,goodbye,last\n"
          ]
        }
      ]
    },
    {
      "cell_type": "code",
      "source": [
        "# Sol 4\n",
        "d = \",\"  # d = delimitor\n",
        "print(d.join(list_of_words))"
      ],
      "metadata": {
        "colab": {
          "base_uri": "https://localhost:8080/"
        },
        "id": "eHXyD6Lk3S8l",
        "outputId": "84fcf0fd-a0e9-49e9-a02c-d7f5cea349e7"
      },
      "execution_count": 9,
      "outputs": [
        {
          "output_type": "stream",
          "name": "stdout",
          "text": [
            "hello,yes,goodbye,last\n"
          ]
        }
      ]
    },
    {
      "cell_type": "markdown",
      "source": [
        "## Example 2\n",
        "https://youtu.be/-njsRb8Tn70?t=510"
      ],
      "metadata": {
        "id": "y9ke954V326q"
      }
    },
    {
      "cell_type": "code",
      "source": [
        "guess = 1\n",
        "\n",
        "while True:\n",
        "    num = input(\"Please guess the number (between 0-100): \")\n",
        "    try:\n",
        "        num = int(num)\n",
        "    except:\n",
        "        print(\"Invalid number, please guess again.\")\n",
        "        continue\n",
        "    \n",
        "    if num < 45:\n",
        "        print(\"Your guess was under.\")\n",
        "    if num > 45:\n",
        "        print(\"Your guess was over.\")\n",
        "    else:\n",
        "        break\n",
        "\n",
        "    guess += 1\n",
        "\n",
        "print(f\"You guessed it in {guess} guesses\")"
      ],
      "metadata": {
        "colab": {
          "base_uri": "https://localhost:8080/"
        },
        "id": "-rjkSROU38OI",
        "outputId": "61e51ace-2c4b-4c0d-9949-955d8875381d"
      },
      "execution_count": 12,
      "outputs": [
        {
          "output_type": "stream",
          "name": "stdout",
          "text": [
            "Please guess the number (between 0-100): 5\n",
            "Your guess was under.\n",
            "You guessed it in 1 guesses\n"
          ]
        }
      ]
    },
    {
      "cell_type": "code",
      "source": [
        "# Improvements\n",
        "# 1) create class (for reusability)\n",
        "# 2) use a min, max, number-to-guess variable\n",
        "# 3) class functions such as \"valid_number\" while preventing user input errors\n",
        "guess = 1\n",
        "\n",
        "while True:\n",
        "    num = input(\"Please guess the number (between 0-100): \")\n",
        "    try:\n",
        "        num = int(num)\n",
        "    except:\n",
        "        print(\"Invalid number, please guess again.\")\n",
        "        continue\n",
        "    \n",
        "    if num < 45:\n",
        "        print(\"Your guess was under.\")\n",
        "    if num > 45:\n",
        "        print(\"Your guess was over.\")\n",
        "    else:\n",
        "        break\n",
        "\n",
        "    guess += 1\n",
        "\n",
        "# Does not run beyond one guess in Google Colab\n",
        "print(f\"You guessed it in {guess} guesses\")"
      ],
      "metadata": {
        "colab": {
          "base_uri": "https://localhost:8080/"
        },
        "id": "N5svY6p-4xst",
        "outputId": "95b00c5f-c90e-468c-e0fc-7d2cd99e3bc7"
      },
      "execution_count": 16,
      "outputs": [
        {
          "output_type": "stream",
          "name": "stdout",
          "text": [
            "Please guess the number (between 0-100): 45\n",
            "You guessed it in 1 guesses\n"
          ]
        }
      ]
    }
  ]
}