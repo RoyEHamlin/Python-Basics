{
  "nbformat": 4,
  "nbformat_minor": 0,
  "metadata": {
    "colab": {
      "name": "Python OOP.ipynb",
      "provenance": [],
      "collapsed_sections": [
        "LxU6E8lkt3A1",
        "qGB-CcP-1f_g",
        "HRhmJ8SOFzGl"
      ],
      "authorship_tag": "ABX9TyNx2+Ms9jDKSiQRR8NN4nIh",
      "include_colab_link": true
    },
    "kernelspec": {
      "name": "python3",
      "display_name": "Python 3"
    },
    "language_info": {
      "name": "python"
    }
  },
  "cells": [
    {
      "cell_type": "markdown",
      "metadata": {
        "id": "view-in-github",
        "colab_type": "text"
      },
      "source": [
        "<a href=\"https://colab.research.google.com/github/RoyEHamlin/Python-OOP/blob/main/Python_OOP.ipynb\" target=\"_parent\"><img src=\"https://colab.research.google.com/assets/colab-badge.svg\" alt=\"Open In Colab\"/></a>"
      ]
    },
    {
      "cell_type": "markdown",
      "source": [
        "# Python OOP Tutorial\n"
      ],
      "metadata": {
        "id": "2z7BKw9DhUJ3"
      }
    },
    {
      "cell_type": "markdown",
      "source": [
        "\n",
        "## Video 1\n",
        "https://www.youtube.com/watch?v=v_Jp11xqCzg&list=PLzMcBGfZo4-l1MqB1zoYfqzlj_HH-ZzXt"
      ],
      "metadata": {
        "id": "LxU6E8lkt3A1"
      }
    },
    {
      "cell_type": "code",
      "source": [
        "x = 5\n",
        "y = 'string'\n",
        "\n",
        "print(type(x))\n",
        "print(type(y))"
      ],
      "metadata": {
        "id": "J6C2lk1ihr8m",
        "colab": {
          "base_uri": "https://localhost:8080/"
        },
        "outputId": "1c35cd38-8575-4a35-ffdb-30acfd4d421f"
      },
      "execution_count": null,
      "outputs": [
        {
          "output_type": "stream",
          "name": "stdout",
          "text": [
            "<class 'int'>\n",
            "<class 'str'>\n"
          ]
        }
      ]
    },
    {
      "cell_type": "code",
      "source": [
        "help(int)"
      ],
      "metadata": {
        "id": "3mc4PnlywCEj"
      },
      "execution_count": null,
      "outputs": []
    },
    {
      "cell_type": "code",
      "source": [
        "import turtle\n",
        "# t = turtle.Turtle()"
      ],
      "metadata": {
        "id": "bU3RuyRq0U44"
      },
      "execution_count": null,
      "outputs": []
    },
    {
      "cell_type": "code",
      "source": [
        "def fun(x):\n",
        "    return x+1\n",
        "print(fun(5))"
      ],
      "metadata": {
        "colab": {
          "base_uri": "https://localhost:8080/"
        },
        "id": "lx1Ywsgh0pmi",
        "outputId": "0dd9d7dc-b825-4ab0-e949-8f2c412e2906"
      },
      "execution_count": null,
      "outputs": [
        {
          "output_type": "stream",
          "name": "stdout",
          "text": [
            "6\n"
          ]
        }
      ]
    },
    {
      "cell_type": "code",
      "source": [
        "print(y.replace('s', ''))"
      ],
      "metadata": {
        "id": "9mCDw6qr1LiY"
      },
      "execution_count": null,
      "outputs": []
    },
    {
      "cell_type": "code",
      "source": [
        "y"
      ],
      "metadata": {
        "colab": {
          "base_uri": "https://localhost:8080/",
          "height": 35
        },
        "id": "inwbSG6i1T43",
        "outputId": "dddfc786-035e-4b9d-8e60-a56c19ffbf64"
      },
      "execution_count": null,
      "outputs": [
        {
          "output_type": "execute_result",
          "data": {
            "application/vnd.google.colaboratory.intrinsic+json": {
              "type": "string"
            },
            "text/plain": [
              "'string'"
            ]
          },
          "metadata": {},
          "execution_count": 7
        }
      ]
    },
    {
      "cell_type": "markdown",
      "source": [
        "## Video 2 : Creating Classes\n",
        "https://www.youtube.com/watch?v=jQiUOV15IRI&list=PLzMcBGfZo4-l1MqB1zoYfqzlj_HH-ZzXt&index=2"
      ],
      "metadata": {
        "id": "qGB-CcP-1f_g"
      }
    },
    {
      "cell_type": "code",
      "source": [
        "class Cat(object):\n",
        "    def __init__(self, name, age):\n",
        "        self.name = name\n",
        "        self.age = age\n",
        "\n",
        "\n",
        "    def iam(self):\n",
        "        print(\"hi, I\\'m \", self.name, \"and I am\", self.age, \"years old.\")\n",
        "\n",
        "    def change_age(self, age):\n",
        "        self.age = age\n",
        "        print(\"I am now\", self.age, \"years old.\" )\n",
        "    \n",
        "    def add_weight(self, weight):\n",
        "        self.weight = weight\n",
        "\n",
        "    def speak(self):\n",
        "        print('meow')\n",
        "\n",
        "\n",
        "k = Cat(\"Hoover\", 8)"
      ],
      "metadata": {
        "id": "yqjR9gwi1lFf"
      },
      "execution_count": null,
      "outputs": []
    },
    {
      "cell_type": "code",
      "source": [
        "k.iam()"
      ],
      "metadata": {
        "colab": {
          "base_uri": "https://localhost:8080/"
        },
        "id": "HU5HiOj56gzI",
        "outputId": "3538ca04-76bd-4079-b3fd-6b1be8887e69"
      },
      "execution_count": null,
      "outputs": [
        {
          "output_type": "stream",
          "name": "stdout",
          "text": [
            "hi, I'm  Hoover and I am 8 years old.\n"
          ]
        }
      ]
    },
    {
      "cell_type": "code",
      "source": [
        "k.change_age(9)"
      ],
      "metadata": {
        "colab": {
          "base_uri": "https://localhost:8080/"
        },
        "id": "UhB9rVX9BXqr",
        "outputId": "f3d698b0-9583-4861-8ae4-ef8fd9fd0384"
      },
      "execution_count": null,
      "outputs": [
        {
          "output_type": "stream",
          "name": "stdout",
          "text": [
            "I am now 9 years old.\n"
          ]
        }
      ]
    },
    {
      "cell_type": "code",
      "source": [
        "type(k.age)"
      ],
      "metadata": {
        "colab": {
          "base_uri": "https://localhost:8080/"
        },
        "id": "MkfXua9fBif_",
        "outputId": "885cf7ef-8d0f-4150-fc17-b08dc60009e3"
      },
      "execution_count": null,
      "outputs": [
        {
          "output_type": "execute_result",
          "data": {
            "text/plain": [
              "int"
            ]
          },
          "metadata": {},
          "execution_count": 44
        }
      ]
    },
    {
      "cell_type": "markdown",
      "source": [
        "## Video 3: Inheritance\n",
        "https://www.youtube.com/watch?v=H2SQrZK2nvM&list=PLzMcBGfZo4-l1MqB1zoYfqzlj_HH-ZzXt&index=3"
      ],
      "metadata": {
        "id": "HRhmJ8SOFzGl"
      }
    },
    {
      "cell_type": "code",
      "source": [
        "class Dog(Cat):\n",
        "    def __init__(self, name, age, color):\n",
        "        super().__init__(name, age) # <-- \n",
        "        self.color = color\n",
        "    \n",
        "    def speak(self):    # <-- override\n",
        "        print('Bark')\n"
      ],
      "metadata": {
        "id": "N_niwe2PGFH7"
      },
      "execution_count": null,
      "outputs": []
    },
    {
      "cell_type": "code",
      "source": [
        "d = Dog('Cookie', 18, 'brown')"
      ],
      "metadata": {
        "id": "CV5AWLfzIiPe"
      },
      "execution_count": null,
      "outputs": []
    },
    {
      "cell_type": "code",
      "source": [
        "d.iam()\n",
        "d.speak()"
      ],
      "metadata": {
        "colab": {
          "base_uri": "https://localhost:8080/"
        },
        "id": "pDbl7yvVIloj",
        "outputId": "11e9836c-eb88-4821-ef51-17ea7e9ed979"
      },
      "execution_count": null,
      "outputs": [
        {
          "output_type": "stream",
          "name": "stdout",
          "text": [
            "hi, I'm  Cookie and I am 18 years old.\n",
            "Bark\n"
          ]
        }
      ]
    },
    {
      "cell_type": "code",
      "source": [
        "class Vehicle():\n",
        "    def __init__(self, price, gas, color):\n",
        "        self.price = price\n",
        "        self.gas = gas\n",
        "        self.color = colors\n",
        "\n",
        "    def fill(self):\n",
        "        self.gas = 100\n",
        "\n",
        "    def empty(self):\n",
        "        self.gas = 0\n",
        "\n",
        "    def left(self):\n",
        "        return self.gas\n",
        "\n",
        "class Car(Vehicle):\n",
        "    def __init__(self, price, gas, color, speed):\n",
        "        super().__init__(price, gas, color)\n",
        "        self.speed = speed\n",
        "\n",
        "    def beep(self):\n",
        "        print(\"beep\")\n",
        "\n",
        "class Truck(Vehicle):\n",
        "    def __init__(self, price, gas, color, tires):\n",
        "        super().__init__(price, gas, color)\n",
        "        self.tires = tires\n",
        "\n",
        "    def beep(self):\n",
        "        print(\"Honk\")\n"
      ],
      "metadata": {
        "id": "gmJX80kPKFkC"
      },
      "execution_count": null,
      "outputs": []
    },
    {
      "cell_type": "markdown",
      "source": [
        "## Video 4: Overriding Methods\n",
        "https://youtu.be/39m3rstTN8w?list=PLzMcBGfZo4-l1MqB1zoYfqzlj_HH-ZzXt&t=610"
      ],
      "metadata": {
        "id": "_3iEYSLCLzpX"
      }
    },
    {
      "cell_type": "code",
      "source": [
        "# for list of most overloadable methods, see \n",
        "# https://web.archive.org/web/20200204050721/http://www.siafoo.net/article/57\n"
      ],
      "metadata": {
        "id": "ekYb7g-6L-vP"
      },
      "execution_count": null,
      "outputs": []
    },
    {
      "cell_type": "code",
      "source": [
        "class Point():\n",
        "    def __init__(self, x=0, y=0):\n",
        "        self.x = x\n",
        "        self.y = y\n",
        "        self.coords = (self.x, self.y)\n",
        "\n",
        "    def move(self, x, y):\n",
        "        self.x += x\n",
        "        self.y += y\n",
        "\n",
        "    def __add__(self, p):\n",
        "        return Point(self.x + p.x, self.y + p.y)\n",
        "\n",
        "    def __sub__(self, p):\n",
        "        return Point(self.x - p.x, self.y - p.y)\n",
        "\n",
        "    def __mul__(self, p):\n",
        "        return self.x * p.x + self.y * p.y\n",
        "\n",
        "    def length(self):\n",
        "        import math\n",
        "        return math.sqrt(self.x**2 + self.y**2)\n",
        "    \n",
        "    def __len__(self):      # Alternate of above\n",
        "        import math\n",
        "        return int(math.sqrt(self.x**2 + self.y**2))\n",
        "\n",
        "    def __gt__(self, p):\n",
        "        return self.length() > p.length()\n",
        "\n",
        "    def __ge__(self, p):\n",
        "        return self.length() >= p.length()\n",
        "        \n",
        "    def __lt__(self, p):\n",
        "        return self.length() < p.length()\n",
        "               \n",
        "    def __le__(self, p):\n",
        "        return self.length() <= p.length()\n",
        "\n",
        "        \n",
        "    def __eq__(self, p):\n",
        "        return self.x == p.x and self.y == p.y\n",
        "\n",
        "    def __str__(self):\n",
        "        return \"(\" + str(self.x) + ',' + str(self.y) + ')'\n"
      ],
      "metadata": {
        "id": "rapdX_uqKocB"
      },
      "execution_count": null,
      "outputs": []
    },
    {
      "cell_type": "code",
      "source": [
        "p1 = Point(3,4)\n",
        "p2 = Point(3,2)\n",
        "p3 = Point(1,3)\n",
        "p4 = Point(0,1)\n",
        "\n",
        "p5 = p1 + p2 \n",
        "p6 = p4 - p1\n",
        "p7 = p2 * p3 \n",
        "\n",
        "print(p5, p6, p7)"
      ],
      "metadata": {
        "colab": {
          "base_uri": "https://localhost:8080/"
        },
        "id": "VacG9wjLQaT9",
        "outputId": "82ffac96-b6e7-4670-f33a-f1298e773878"
      },
      "execution_count": null,
      "outputs": [
        {
          "output_type": "stream",
          "name": "stdout",
          "text": [
            "(6,6) (-3,-3) 9\n"
          ]
        }
      ]
    },
    {
      "cell_type": "code",
      "source": [
        "len(p1)"
      ],
      "metadata": {
        "colab": {
          "base_uri": "https://localhost:8080/"
        },
        "id": "Yb1FCkOjSTJS",
        "outputId": "7407339d-bb10-4cd4-dcbb-6f4e21ec8ba7"
      },
      "execution_count": null,
      "outputs": [
        {
          "output_type": "execute_result",
          "data": {
            "text/plain": [
              "5"
            ]
          },
          "metadata": {},
          "execution_count": 50
        }
      ]
    },
    {
      "cell_type": "code",
      "source": [
        "print(p1 == p2)\n",
        "print(p1 > p2)\n",
        "print(p4 <= p3)"
      ],
      "metadata": {
        "colab": {
          "base_uri": "https://localhost:8080/"
        },
        "id": "r5Z0rdxaIGAL",
        "outputId": "fa91fecc-f3a7-4bf7-ba23-36419fe8c0bc"
      },
      "execution_count": null,
      "outputs": [
        {
          "output_type": "stream",
          "name": "stdout",
          "text": [
            "False\n",
            "True\n",
            "True\n"
          ]
        }
      ]
    },
    {
      "cell_type": "markdown",
      "source": [
        "## Video 5:  Static Methods and Class Methods\n",
        "https://www.youtube.com/watch?v=MpuOuZKWUWw&list=PLzMcBGfZo4-l1MqB1zoYfqzlj_HH-ZzXt&index=5"
      ],
      "metadata": {
        "id": "UDBy_EIgWdYm"
      }
    },
    {
      "cell_type": "code",
      "source": [
        "class Dog:\n",
        "    dogs = []   # class variable (not w/i a method)\n",
        "                # referenced by entire 'class'\n",
        "\n",
        "    def __init__(self, name):\n",
        "        self.name = name    # regular variable\n",
        "        self.dogs.append(self)\n",
        "\n",
        "    @classmethod        # decorators  (no instance of class needed)\n",
        "    def num_dogs(cls):  # cls = name of the class.  used for e.g. referencing class variables, etc.\n",
        "        return len(cls.dogs)\n",
        "\n",
        "    @staticmethod\n",
        "    def bark(n):        # pass ONLY (if needed) parameters, if needed).  See example below.\n",
        "        \"\"\"barks n times\"\"\"\n",
        "        for _ in range(n):\n",
        "            print(\"Bark!\")\n",
        "\n",
        "\n",
        "tim = Dog(\"Tim\")\n",
        "jim = Dog('Jim')"
      ],
      "metadata": {
        "id": "8SiPXm2hWr0Q"
      },
      "execution_count": null,
      "outputs": []
    },
    {
      "cell_type": "code",
      "source": [
        "print(Dog.dogs)\n",
        "print(Dog.num_dogs())\n",
        "print(tim.num_dogs())\n",
        "Dog.bark(5)"
      ],
      "metadata": {
        "colab": {
          "base_uri": "https://localhost:8080/"
        },
        "id": "1rehvV_cX8RP",
        "outputId": "46ad35ac-f8d1-497a-f497-c092a8831769"
      },
      "execution_count": null,
      "outputs": [
        {
          "output_type": "stream",
          "name": "stdout",
          "text": [
            "[<__main__.Dog object at 0x7fda167db150>, <__main__.Dog object at 0x7fda167dbb10>]\n",
            "2\n",
            "2\n",
            "Bark!\n",
            "Bark!\n",
            "Bark!\n",
            "Bark!\n",
            "Bark!\n"
          ]
        }
      ]
    },
    {
      "cell_type": "code",
      "source": [
        "class Math:\n",
        "    @staticmethod       # useful for creating custom classes we intend to import\n",
        "    def add(x, x2):\n",
        "        return x + x2"
      ],
      "metadata": {
        "id": "puDNxl8HoFw8"
      },
      "execution_count": null,
      "outputs": []
    },
    {
      "cell_type": "markdown",
      "source": [
        "## Video: Private and Public Classes\n",
        "https://www.youtube.com/watch?v=xY__sjI5yVU&list=PLzMcBGfZo4-l1MqB1zoYfqzlj_HH-ZzXt&index=6"
      ],
      "metadata": {
        "id": "hCXDeJyDplFd"
      }
    },
    {
      "cell_type": "code",
      "source": [
        "# file name \"mod.py\"\n",
        "class _Private:     # In Python, there is no TECHNICAL private class.\n",
        "    def __init__(self, name):\n",
        "        self.name = name\n",
        "\n",
        "class NotPrivate:\n",
        "    def __init__(self, name):\n",
        "        self.name = name\n",
        "        self.priv = _Private(name)\n",
        "\n",
        "def _display(self):     # convention ONLY.\n",
        "    pritn(\"Hello\")\n",
        "\n",
        "def display(self):\n",
        "    print('Hi')"
      ],
      "metadata": {
        "id": "gG22EFyHpuNp"
      },
      "execution_count": 78,
      "outputs": []
    },
    {
      "cell_type": "code",
      "source": [
        "# file name \"tutorial1.py\"\n",
        "import mod\n",
        "\n",
        "#####\n",
        "from mod import NotPrivate\n",
        "test = NotPrivate('tim')\n",
        "# or \n",
        "test = mod.NotPrivate('tim')\n",
        "#####\n",
        "\n",
        "test.display()"
      ],
      "metadata": {
        "colab": {
          "base_uri": "https://localhost:8080/",
          "height": 373
        },
        "id": "VvMofK0Vp5tP",
        "outputId": "58acca68-418a-4005-87de-be278f45e54f"
      },
      "execution_count": 79,
      "outputs": [
        {
          "output_type": "error",
          "ename": "ModuleNotFoundError",
          "evalue": "ignored",
          "traceback": [
            "\u001b[0;31m---------------------------------------------------------------------------\u001b[0m",
            "\u001b[0;31mModuleNotFoundError\u001b[0m                       Traceback (most recent call last)",
            "\u001b[0;32m<ipython-input-79-0dce679c53a1>\u001b[0m in \u001b[0;36m<module>\u001b[0;34m()\u001b[0m\n\u001b[1;32m      1\u001b[0m \u001b[0;31m# file name \"tutorial1.py\"\u001b[0m\u001b[0;34m\u001b[0m\u001b[0;34m\u001b[0m\u001b[0;34m\u001b[0m\u001b[0m\n\u001b[0;32m----> 2\u001b[0;31m \u001b[0;32mimport\u001b[0m \u001b[0mmod\u001b[0m\u001b[0;34m\u001b[0m\u001b[0;34m\u001b[0m\u001b[0m\n\u001b[0m\u001b[1;32m      3\u001b[0m \u001b[0;32mfrom\u001b[0m \u001b[0mmod\u001b[0m \u001b[0;32mimport\u001b[0m \u001b[0mNotPrivate\u001b[0m\u001b[0;34m\u001b[0m\u001b[0;34m\u001b[0m\u001b[0m\n\u001b[1;32m      4\u001b[0m \u001b[0mtest\u001b[0m \u001b[0;34m=\u001b[0m \u001b[0mNotPrivate\u001b[0m\u001b[0;34m(\u001b[0m\u001b[0;34m'tim'\u001b[0m\u001b[0;34m)\u001b[0m\u001b[0;34m\u001b[0m\u001b[0;34m\u001b[0m\u001b[0m\n\u001b[1;32m      5\u001b[0m \u001b[0mtest\u001b[0m\u001b[0;34m.\u001b[0m\u001b[0mdisplay\u001b[0m\u001b[0;34m(\u001b[0m\u001b[0;34m)\u001b[0m\u001b[0;34m\u001b[0m\u001b[0;34m\u001b[0m\u001b[0m\n",
            "\u001b[0;31mModuleNotFoundError\u001b[0m: No module named 'mod'",
            "",
            "\u001b[0;31m---------------------------------------------------------------------------\u001b[0;32m\nNOTE: If your import is failing due to a missing package, you can\nmanually install dependencies using either !pip or !apt.\n\nTo view examples of installing some common dependencies, click the\n\"Open Examples\" button below.\n\u001b[0;31m---------------------------------------------------------------------------\u001b[0m\n"
          ],
          "errorDetails": {
            "actions": [
              {
                "action": "open_url",
                "actionText": "Open Examples",
                "url": "/notebooks/snippets/importing_libraries.ipynb"
              }
            ]
          }
        }
      ]
    },
    {
      "cell_type": "markdown",
      "source": [
        "# DONE"
      ],
      "metadata": {
        "id": "4FQ7V5JdvcrA"
      }
    }
  ]
}